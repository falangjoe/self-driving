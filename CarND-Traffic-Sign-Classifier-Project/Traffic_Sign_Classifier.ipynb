{
 "cells": [
  {
   "cell_type": "markdown",
   "metadata": {},
   "source": [
    "# Self-Driving Car Engineer Nanodegree\n",
    "\n",
    "## Deep Learning\n",
    "\n",
    "## Project: Build a Traffic Sign Recognition Classifier\n",
    "\n",
    "In this notebook, a template is provided for you to implement your functionality in stages, which is required to successfully complete this project. If additional code is required that cannot be included in the notebook, be sure that the Python code is successfully imported and included in your submission if necessary. \n",
    "\n",
    "> **Note**: Once you have completed all of the code implementations, you need to finalize your work by exporting the iPython Notebook as an HTML document. Before exporting the notebook to html, all of the code cells need to have been run so that reviewers can see the final implementation and output. You can then export the notebook by using the menu above and navigating to  \\n\",\n",
    "    \"**File -> Download as -> HTML (.html)**. Include the finished document along with this notebook as your submission. \n",
    "\n",
    "In addition to implementing code, there is a writeup to complete. The writeup should be completed in a separate file, which can be either a markdown file or a pdf document. There is a [write up template](https://github.com/udacity/CarND-Traffic-Sign-Classifier-Project/blob/master/writeup_template.md) that can be used to guide the writing process. Completing the code template and writeup template will cover all of the [rubric points](https://review.udacity.com/#!/rubrics/481/view) for this project.\n",
    "\n",
    "The [rubric](https://review.udacity.com/#!/rubrics/481/view) contains \"Stand Out Suggestions\" for enhancing the project beyond the minimum requirements. The stand out suggestions are optional. If you decide to pursue the \"stand out suggestions\", you can include the code in this Ipython notebook and also discuss the results in the writeup file.\n",
    "\n",
    "\n",
    ">**Note:** Code and Markdown cells can be executed using the **Shift + Enter** keyboard shortcut. In addition, Markdown cells can be edited by typically double-clicking the cell to enter edit mode."
   ]
  },
  {
   "cell_type": "markdown",
   "metadata": {},
   "source": [
    "---\n",
    "## Step 0: Load The Data"
   ]
  },
  {
   "cell_type": "code",
   "execution_count": 1,
   "metadata": {
    "collapsed": true
   },
   "outputs": [],
   "source": [
    "# Load pickled data\n",
    "import pickle\n",
    "\n",
    "# TODO: Fill this in based on where you saved the training and testing data\n",
    "\n",
    "training_file = './data/traffic-signs-data/train.p'\n",
    "validation_file= './data/traffic-signs-data/valid.p'\n",
    "testing_file = './data/traffic-signs-data/test.p'\n",
    "\n",
    "with open(training_file, mode='rb') as f:\n",
    "    train = pickle.load(f)\n",
    "with open(validation_file, mode='rb') as f:\n",
    "    valid = pickle.load(f)\n",
    "with open(testing_file, mode='rb') as f:\n",
    "    test = pickle.load(f)\n",
    "    \n",
    "X_train, y_train = train['features'], train['labels']\n",
    "X_valid, y_valid = valid['features'], valid['labels']\n",
    "X_test, y_test = test['features'], test['labels']"
   ]
  },
  {
   "cell_type": "code",
   "execution_count": 2,
   "metadata": {
    "collapsed": true
   },
   "outputs": [],
   "source": [
    "import numpy as np\n",
    "import pandas as pd\n",
    "\n",
    "y_name = pd.read_csv('./signnames.csv',sep=',', usecols=[\"SignName\"])\n",
    "y_name = np.squeeze(np.array(y_name))"
   ]
  },
  {
   "cell_type": "markdown",
   "metadata": {},
   "source": [
    "---\n",
    "\n",
    "## Step 1: Dataset Summary & Exploration\n",
    "\n",
    "The pickled data is a dictionary with 4 key/value pairs:\n",
    "\n",
    "- `'features'` is a 4D array containing raw pixel data of the traffic sign images, (num examples, width, height, channels).\n",
    "- `'labels'` is a 1D array containing the label/class id of the traffic sign. The file `signnames.csv` contains id -> name mappings for each id.\n",
    "- `'sizes'` is a list containing tuples, (width, height) representing the original width and height the image.\n",
    "- `'coords'` is a list containing tuples, (x1, y1, x2, y2) representing coordinates of a bounding box around the sign in the image. **THESE COORDINATES ASSUME THE ORIGINAL IMAGE. THE PICKLED DATA CONTAINS RESIZED VERSIONS (32 by 32) OF THESE IMAGES**\n",
    "\n",
    "Complete the basic data summary below. Use python, numpy and/or pandas methods to calculate the data summary rather than hard coding the results. For example, the [pandas shape method](http://pandas.pydata.org/pandas-docs/stable/generated/pandas.DataFrame.shape.html) might be useful for calculating some of the summary results. "
   ]
  },
  {
   "cell_type": "markdown",
   "metadata": {},
   "source": [
    "### Provide a Basic Summary of the Data Set Using Python, Numpy and/or Pandas"
   ]
  },
  {
   "cell_type": "code",
   "execution_count": 3,
   "metadata": {},
   "outputs": [
    {
     "name": "stdout",
     "output_type": "stream",
     "text": [
      "Number of training examples = 34799\n",
      "Number of testing examples = 12630\n",
      "Image data shape = (32, 32, 3)\n",
      "Number of classes = 43\n"
     ]
    }
   ],
   "source": [
    "### Replace each question mark with the appropriate value. \n",
    "### Use python, pandas or numpy methods rather than hard coding the results\n",
    "\n",
    "# TODO: Number of training examples\n",
    "n_train = len(y_train)\n",
    "\n",
    "# TODO: Number of validation examples\n",
    "n_validation = len(y_valid)\n",
    "\n",
    "# TODO: Number of testing examples.\n",
    "n_test = len(y_test)\n",
    "\n",
    "# TODO: What's the shape of an traffic sign image?\n",
    "image_shape = X_train[0].shape\n",
    "\n",
    "# TODO: How many unique classes/labels there are in the dataset.\n",
    "n_classes = len(set(y_train))\n",
    "\n",
    "print(\"Number of training examples =\", n_train)\n",
    "print(\"Number of testing examples =\", n_test)\n",
    "print(\"Image data shape =\", image_shape)\n",
    "print(\"Number of classes =\", n_classes)"
   ]
  },
  {
   "cell_type": "code",
   "execution_count": 9,
   "metadata": {},
   "outputs": [
    {
     "data": {
      "image/png": "[encoded data removed]",
      "text/plain": [
       "<matplotlib.figure.Figure at 0x1db9882f9b0>"
      ]
     },
     "metadata": {
      "image/png": {
       "height": 305,
       "width": 436
      }
     },
     "output_type": "display_data"
    }
   ],
   "source": [
    "import matplotlib.pyplot as plt\n",
    "%matplotlib inline\n",
    "%config InlineBackend.figure_format = 'retina'\n",
    "\n",
    "from collections import Counter as Counter\n",
    "class_counts = Counter(y_train)\n",
    "\n",
    "y_pos = list(class_counts.values())\n",
    "x_pos = list(class_counts)\n",
    "\n",
    "plt.bar(x_pos,y_pos, align='center')\n",
    "plt.tight_layout()\n",
    "plt.xlabel('traffic sign')\n",
    "plt.ylabel('examples')\n",
    "plt.title('training data')\n",
    "plt.show()"
   ]
  },
  {
   "cell_type": "markdown",
   "metadata": {},
   "source": [
    "### Include an exploratory visualization of the dataset"
   ]
  },
  {
   "cell_type": "markdown",
   "metadata": {},
   "source": [
    "Visualize the German Traffic Signs Dataset using the pickled file(s). This is open ended, suggestions include: plotting traffic sign images, plotting the count of each sign, etc. \n",
    "\n",
    "The [Matplotlib](http://matplotlib.org/) [examples](http://matplotlib.org/examples/index.html) and [gallery](http://matplotlib.org/gallery.html) pages are a great resource for doing visualizations in Python.\n",
    "\n",
    "**NOTE:** It's recommended you start with something simple first. If you wish to do more, come back to it after you've completed the rest of the sections. It can be interesting to look at the distribution of classes in the training, validation and test set. Is the distribution the same? Are there more examples of some classes than others?"
   ]
  },
  {
   "cell_type": "code",
   "execution_count": null,
   "metadata": {
    "collapsed": true
   },
   "outputs": [],
   "source": [
    "### Data exploration visualization code goes here.\n",
    "### Feel free to use as many code cells as needed.\n",
    "import matplotlib.pyplot as plt\n",
    "import math\n",
    "import numpy.random as random\n",
    "# Visualizations will be shown in the notebook.\n",
    "\n",
    "%matplotlib inline\n",
    "%config InlineBackend.figure_format = 'retina'\n",
    "\n",
    "\n",
    "def show_training_images(rows, columns):\n",
    "\n",
    "    indexes = random.randint(0,n_train,rows*columns)\n",
    "    indexes = sorted(indexes,key=lambda x: y_train[x])\n",
    "    images = X_train[indexes] \n",
    "    labels = y_train[indexes]\n",
    "\n",
    "    fig, axes = plt.subplots(\n",
    "        nrows = rows, \n",
    "        ncols = columns, \n",
    "        sharex=True, \n",
    "        sharey=True, \n",
    "        figsize=(4 * columns, 4 * rows)\n",
    "    )\n",
    "\n",
    "    for ii, ax in enumerate(axes.flatten()):\n",
    "        ax.imshow(images[ii])\n",
    "        title = \"{0} = {1}\".format(labels[ii],y_name[labels[ii]])\n",
    "        ax.set_title(title)\n",
    "        ax.xaxis.set_visible(False)\n",
    "        ax.yaxis.set_visible(False)\n",
    "    \n",
    "    #plt.subplots_adjust(wspace=0, hspace=0)\n",
    "    \n",
    "\n",
    "show_training_images(rows = 40, columns = 4)"
   ]
  },
  {
   "cell_type": "markdown",
   "metadata": {},
   "source": [
    "----\n",
    "\n",
    "## Step 2: Design and Test a Model Architecture\n",
    "\n",
    "Design and implement a deep learning model that learns to recognize traffic signs. Train and test your model on the [German Traffic Sign Dataset](http://benchmark.ini.rub.de/?section=gtsrb&subsection=dataset).\n",
    "\n",
    "The LeNet-5 implementation shown in the [classroom](https://classroom.udacity.com/nanodegrees/nd013/parts/fbf77062-5703-404e-b60c-95b78b2f3f9e/modules/6df7ae49-c61c-4bb2-a23e-6527e69209ec/lessons/601ae704-1035-4287-8b11-e2c2716217ad/concepts/d4aca031-508f-4e0b-b493-e7b706120f81) at the end of the CNN lesson is a solid starting point. You'll have to change the number of classes and possibly the preprocessing, but aside from that it's plug and play! \n",
    "\n",
    "With the LeNet-5 solution from the lecture, you should expect a validation set accuracy of about 0.89. To meet specifications, the validation set accuracy will need to be at least 0.93. It is possible to get an even higher accuracy, but 0.93 is the minimum for a successful project submission. \n",
    "\n",
    "There are various aspects to consider when thinking about this problem:\n",
    "\n",
    "- Neural network architecture (is the network over or underfitting?)\n",
    "- Play around preprocessing techniques (normalization, rgb to grayscale, etc)\n",
    "- Number of examples per label (some have more than others).\n",
    "- Generate fake data.\n",
    "\n",
    "Here is an example of a [published baseline model on this problem](http://yann.lecun.com/exdb/publis/pdf/sermanet-ijcnn-11.pdf). It's not required to be familiar with the approach used in the paper but, it's good practice to try to read papers like these."
   ]
  },
  {
   "cell_type": "markdown",
   "metadata": {},
   "source": [
    "### Pre-process the Data Set (normalization, grayscale, etc.)"
   ]
  },
  {
   "cell_type": "markdown",
   "metadata": {},
   "source": [
    "Minimally, the image data should be normalized so that the data has mean zero and equal variance. For image data, `(pixel - 128)/ 128` is a quick way to approximately normalize the data and can be used in this project. \n",
    "\n",
    "Other pre-processing steps are optional. You can try different techniques to see if it improves performance. \n",
    "\n",
    "Use the code cell (or multiple code cells, if necessary) to implement the first step of your project."
   ]
  },
  {
   "cell_type": "code",
   "execution_count": null,
   "metadata": {
    "collapsed": true
   },
   "outputs": [],
   "source": []
  },
  {
   "cell_type": "markdown",
   "metadata": {},
   "source": [
    "### Model Architecture"
   ]
  },
  {
   "cell_type": "code",
   "execution_count": null,
   "metadata": {
    "collapsed": true
   },
   "outputs": [],
   "source": [
    "from tensorflow.contrib.layers import flatten\n",
    "\n",
    "def FullyConvolutionalLeNet(x,keep_probability):    \n",
    "\n",
    "    mu = 0\n",
    "    sigma = 0.1\n",
    "    \n",
    "    def conv_layer(previous_layer, filters, kernel_size, activation = None):      \n",
    "        channels = previous_layer.get_shape().as_list()[3]\n",
    "        shape = (kernel_size[0],kernel_size[1],channels,filters)\n",
    "        weights = tf.Variable(tf.truncated_normal(shape=shape, mean = mu, stddev = sigma))\n",
    "        bias = tf.Variable(tf.zeros(filters))\n",
    "        conv = tf.nn.conv2d(previous_layer, weights, strides=[1, 1, 1, 1], padding='VALID') + bias\n",
    "        \n",
    "        if activation is not None:\n",
    "            conv = activation(conv)\n",
    "        \n",
    "        return conv\n",
    "        \n",
    "    \n",
    "    def max_pool_layer(previous_layer):\n",
    "        return tf.nn.max_pool(\n",
    "                previous_layer, \n",
    "                ksize=[1, 2, 2, 1],\n",
    "                strides=[1, 2, 2, 1], \n",
    "                padding='VALID')\n",
    "        \n",
    "    images = tf.cast(x, tf.float32)\n",
    "    images = tf.add(images,-128.0)\n",
    "    images = tf.div(images,128.0)\n",
    "    \n",
    "\n",
    "    conv1 = conv_layer(images, filters = 3 * 6, kernel_size = (5,5), activation = tf.nn.relu) #Input = 32x32x3. Output = 28x28x6.\n",
    "    pool1 = max_pool_layer(conv1) #Input = 28x28x6. Output = 14x14x6.\n",
    "    \n",
    "    conv2 = conv_layer(pool1, filters = 3 * 16, kernel_size = (5,5), activation = tf.nn.relu) #Input = 14x14x6. Output = 10x10x16.\n",
    "    pool2 = max_pool_layer(conv2) #Input = 10x10x16. Output = 5x5x16.\n",
    "    drop2 = tf.nn.dropout(pool2,keep_probability)\n",
    "     \n",
    "    #Fully connected layers as convolutions.\n",
    "    \n",
    "    conv3 = conv_layer(drop2, filters = 2 * 120, kernel_size = (5,5), activation = tf.nn.relu) #Input = 5x5x16. Output = 1x1x120.\n",
    "    conv3 = tf.nn.dropout(conv3,keep_probability)\n",
    "    \n",
    "    conv4 = conv_layer(conv3, filters = 2 * 84, kernel_size = (1,1), activation = tf.nn.relu) #Input = 1x1x120. Output = 1x1x84.\n",
    "    conv4 = tf.nn.dropout(conv4,keep_probability)\n",
    "    \n",
    "    conv5 = conv_layer(conv4, filters = n_classes, kernel_size = (1,1), activation = None ) #Input = 1x1x84. Output = 1x1x10.\n",
    "    \n",
    "    logits = tf.reduce_mean(conv5, (1,2))\n",
    "     \n",
    "    return logits,[conv1,conv2]"
   ]
  },
  {
   "cell_type": "markdown",
   "metadata": {},
   "source": [
    "### Train, Validate and Test the Model"
   ]
  },
  {
   "cell_type": "markdown",
   "metadata": {},
   "source": [
    "A validation set can be used to assess how well the model is performing. A low accuracy on the training and validation\n",
    "sets imply underfitting. A high accuracy on the training set but low accuracy on the validation set implies overfitting."
   ]
  },
  {
   "cell_type": "code",
   "execution_count": null,
   "metadata": {
    "collapsed": true
   },
   "outputs": [],
   "source": [
    "### Train your model here.\n",
    "### Calculate and report the accuracy on the training and validation set.\n",
    "### Once a final model architecture is selected, \n",
    "### the accuracy on the test set should be calculated and reported as well.\n",
    "### Feel free to use as many code cells as needed.\n",
    "\n",
    "import tensorflow as tf\n",
    "import cv2\n",
    "\n",
    "\n",
    "EPOCHS = 15\n",
    "BATCH_SIZE = 128\n",
    "rate = 0.001\n",
    "\n",
    "X = tf.placeholder(tf.uint8, (None, None, None, 3))\n",
    "Y = tf.placeholder(tf.uint8, (None))\n",
    "\n",
    "dataset_train = tf.contrib.data.Dataset.from_tensor_slices((X,Y))\n",
    "dataset_train = dataset_train.shuffle(buffer_size=len(X_train))\n",
    "dataset_train = dataset_train.batch(BATCH_SIZE)\n",
    "\n",
    "dataset_valid = tf.contrib.data.Dataset.from_tensor_slices((X,Y))\n",
    "dataset_valid = dataset_valid.batch(BATCH_SIZE)\n",
    "\n",
    "iterator = tf.contrib.data.Iterator.from_structure(\n",
    "                dataset_train.output_types,\n",
    "                dataset_train.output_shapes)\n",
    "\n",
    "\n",
    "x,y = iterator.get_next()\n",
    "\n",
    "keep_prob = tf.placeholder(tf.float32)\n",
    "one_hot_y = tf.one_hot(y, n_classes)\n",
    "\n",
    "logits, activations = FullyConvolutionalLeNet(x,keep_prob)\n",
    "cross_entropy = tf.nn.softmax_cross_entropy_with_logits(labels=one_hot_y, logits=logits)\n",
    "loss_operation = tf.reduce_mean(cross_entropy)\n",
    "optimizer = tf.train.AdamOptimizer(learning_rate = rate)\n",
    "training_operation = optimizer.minimize(loss_operation)\n",
    "\n",
    "top_5_operation = tf.nn.top_k(tf.nn.softmax(logits),k=5)\n",
    "prediction_operation = tf.argmax(logits, 1)\n",
    "\n",
    "correct_prediction = tf.equal(tf.argmax(logits, 1), tf.argmax(one_hot_y, 1))\n",
    "accuracy_operation = tf.reduce_mean(tf.cast(correct_prediction, tf.float32))\n",
    "batch_size = tf.shape(x)[0]\n",
    "\n",
    "\n",
    "def calculate_accuracy(X_data,Y_data):\n",
    "    sess = tf.get_default_session()\n",
    "    sess.run(iterator.make_initializer(dataset_valid),feed_dict={X: X_data, Y: Y_data})\n",
    "       \n",
    "    total_examples = 0\n",
    "    total_accuracy = 0\n",
    "\n",
    "    while True:\n",
    "        try:\n",
    "            accuracy, length = sess.run([accuracy_operation,batch_size], feed_dict={keep_prob: 1.0})\n",
    "            total_accuracy += (accuracy * length)\n",
    "            total_examples += length\n",
    "           \n",
    "        except tf.errors.OutOfRangeError:\n",
    "            break\n",
    "            \n",
    "    return total_accuracy / total_examples\n",
    "\n",
    "\n",
    "def train_model(X_data,Y_data):\n",
    "    sess = tf.get_default_session()\n",
    "    sess.run(iterator.make_initializer(dataset_train),feed_dict={X: X_data, Y: Y_data})\n",
    "    \n",
    "    while True:\n",
    "        try:\n",
    "            sess.run([training_operation], feed_dict={keep_prob: 0.5})\n",
    "        except tf.errors.OutOfRangeError:\n",
    "            break\n",
    "            \n",
    "\n",
    "def load_and_resize_image(file):\n",
    "    image = cv2.imread(file)\n",
    "    image = cv2.resize(image, (32, 32),interpolation = cv2.INTER_CUBIC)\n",
    "    image = cv2.cvtColor(image, cv2.COLOR_BGR2RGB)\n",
    "    return image\n",
    "            \n",
    "def run_model(files):    \n",
    "    images = [load_and_resize_image(file) for file in files] \n",
    "    dummy_values = np.zeros(len(files))\n",
    "    \n",
    "    sess = tf.get_default_session()\n",
    "    sess.run(iterator.make_initializer(dataset_valid),feed_dict={X: images, Y: dummy_values})  \n",
    "    top_5, prediction  = sess.run([top_5_operation,prediction_operation], feed_dict={keep_prob: 1.0})\n",
    "\n",
    "    return top_5.values, top_5.indices, prediction, y_name[prediction], images             "
   ]
  },
  {
   "cell_type": "code",
   "execution_count": null,
   "metadata": {
    "collapsed": true
   },
   "outputs": [],
   "source": [
    "saver = tf.train.Saver()\n",
    "\n",
    "with tf.Session() as sess:\n",
    "    sess.run(tf.global_variables_initializer())\n",
    "    \n",
    "    print(\"Training...\")\n",
    "    print()\n",
    "    \n",
    "\n",
    "    for i in range(EPOCHS):\n",
    "        \n",
    "        train_model(X_train,y_train)\n",
    "                \n",
    "        training_accuracy = calculate_accuracy(X_train, y_train)\n",
    "        validation_accuracy = calculate_accuracy(X_valid, y_valid)\n",
    "        \n",
    "        print(\"EPOCH {} ...\".format(i+1))\n",
    "        print(\"Training Accuracy = {:.3f}\".format(training_accuracy))\n",
    "        print(\"Validation Accuracy = {:.3f}\".format(validation_accuracy))\n",
    "        print()         \n",
    "\n",
    "    \n",
    "                \n",
    "    saver.save(sess, './checkpoints/model')\n",
    "    print(\"Model saved\")"
   ]
  },
  {
   "cell_type": "code",
   "execution_count": null,
   "metadata": {
    "collapsed": true
   },
   "outputs": [],
   "source": [
    "with tf.Session() as sess:\n",
    "    saver.restore(sess, tf.train.latest_checkpoint('./checkpoints'))\n",
    "    test_accuracy = calculate_accuracy(X_test, y_test)\n",
    "    print(\"Test Accuracy = {:.3f}\".format(test_accuracy))"
   ]
  },
  {
   "cell_type": "markdown",
   "metadata": {},
   "source": [
    "---\n",
    "\n",
    "## Step 3: Test a Model on New Images\n",
    "\n",
    "To give yourself more insight into how your model is working, download at least five pictures of German traffic signs from the web and use your model to predict the traffic sign type.\n",
    "\n",
    "You may find `signnames.csv` useful as it contains mappings from the class id (integer) to the actual sign name."
   ]
  },
  {
   "cell_type": "markdown",
   "metadata": {},
   "source": [
    "### Load and Output the Images, Predict the Sign Type for Each Image, Output Top 5 Softmax Probabilities For Each Image Found on the Web"
   ]
  },
  {
   "cell_type": "code",
   "execution_count": null,
   "metadata": {
    "collapsed": true
   },
   "outputs": [],
   "source": [
    "expected_predictions = [0,1,2,8,11,12,13,17,25,27,38,40]\n",
    "files = [\"./internet_images/{0}.jpg\".format(ii) for ii in expected_predictions]\n",
    "\n",
    "with tf.Session() as sess:\n",
    "    saver.restore(sess, tf.train.latest_checkpoint('./checkpoints'))\n",
    "    \n",
    "    def display_inference(top_5, top_5_indices, prediction, label, image, expected_prediction):\n",
    "        \n",
    "        print(\"expected = {0}, prediction = {1} = {2}\".format(expected_prediction,prediction,label))\n",
    "        \n",
    "        plt.subplot(1, 2, 1)    \n",
    "        plt.imshow(image) \n",
    "            \n",
    "        plt.subplot(1, 2, 2)\n",
    "        x_pos = top_5_indices\n",
    "        y_pos = top_5\n",
    "        plt.bar(x_pos,y_pos, align='center')\n",
    "        plt.xticks(x_pos)\n",
    "\n",
    "        plt.tight_layout()\n",
    "        plt.show()\n",
    "        \n",
    "    for top_5, top_5_indices, prediction, label, image, expected_prediction in zip(*run_model(files),expected_predictions):\n",
    "        display_inference(top_5, top_5_indices, prediction, label, image, expected_prediction)\n",
    "    "
   ]
  },
  {
   "cell_type": "markdown",
   "metadata": {},
   "source": [
    "### Analyze Performance"
   ]
  },
  {
   "cell_type": "code",
   "execution_count": null,
   "metadata": {
    "collapsed": true
   },
   "outputs": [],
   "source": [
    "expected_predictions = [0,1,2,8,11,12,13,17,25,27,38,40]\n",
    "files = [\"./internet_images/{0}.jpg\".format(ii) for ii in expected_predictions]\n",
    "images = [load_and_resize_image(file) for file in files] \n",
    "\n",
    "with tf.Session() as sess:\n",
    "    saver.restore(sess, tf.train.latest_checkpoint('./checkpoints'))\n",
    "    internet_accuracy = calculate_accuracy(images, expected_predictions)\n",
    "    print(\"Internet Accuracy = {:.3f}\".format(internet_accuracy))"
   ]
  },
  {
   "cell_type": "markdown",
   "metadata": {},
   "source": [
    "### Project Writeup\n",
    "\n",
    "Once you have completed the code implementation, document your results in a project writeup using this [template](https://github.com/udacity/CarND-Traffic-Sign-Classifier-Project/blob/master/writeup_template.md) as a guide. The writeup can be in a markdown or pdf file. "
   ]
  },
  {
   "cell_type": "markdown",
   "metadata": {},
   "source": [
    "> **Note**: Once you have completed all of the code implementations and successfully answered each question above, you may finalize your work by exporting the iPython Notebook as an HTML document. You can do this by using the menu above and navigating to  \\n\",\n",
    "    \"**File -> Download as -> HTML (.html)**. Include the finished document along with this notebook as your submission."
   ]
  },
  {
   "cell_type": "markdown",
   "metadata": {},
   "source": [
    "---\n",
    "\n",
    "## Step 4 (Optional): Visualize the Neural Network's State with Test Images\n",
    "\n",
    " This Section is not required to complete but acts as an additional excersise for understaning the output of a neural network's weights. While neural networks can be a great learning device they are often referred to as a black box. We can understand what the weights of a neural network look like better by plotting their feature maps. After successfully training your neural network you can see what it's feature maps look like by plotting the output of the network's weight layers in response to a test stimuli image. From these plotted feature maps, it's possible to see what characteristics of an image the network finds interesting. For a sign, maybe the inner network feature maps react with high activation to the sign's boundary outline or to the contrast in the sign's painted symbol.\n",
    "\n",
    " Provided for you below is the function code that allows you to get the visualization output of any tensorflow weight layer you want. The inputs to the function should be a stimuli image, one used during training or a new one you provided, and then the tensorflow variable name that represents the layer's state during the training process, for instance if you wanted to see what the [LeNet lab's](https://classroom.udacity.com/nanodegrees/nd013/parts/fbf77062-5703-404e-b60c-95b78b2f3f9e/modules/6df7ae49-c61c-4bb2-a23e-6527e69209ec/lessons/601ae704-1035-4287-8b11-e2c2716217ad/concepts/d4aca031-508f-4e0b-b493-e7b706120f81) feature maps looked like for it's second convolutional layer you could enter conv2 as the tf_activation variable.\n",
    "\n",
    "For an example of what feature map outputs look like, check out NVIDIA's results in their paper [End-to-End Deep Learning for Self-Driving Cars](https://devblogs.nvidia.com/parallelforall/deep-learning-self-driving-cars/) in the section Visualization of internal CNN State. NVIDIA was able to show that their network's inner weights had high activations to road boundary lines by comparing feature maps from an image with a clear path to one without. Try experimenting with a similar test to show that your trained network's weights are looking for interesting features, whether it's looking at differences in feature maps from images with or without a sign, or even what feature maps look like in a trained network vs a completely untrained one on the same sign image.\n",
    "\n",
    "<figure>\n",
    " <img src=\"visualize_cnn.png\" width=\"380\" alt=\"Combined Image\" />\n",
    " <figcaption>\n",
    " <p></p> \n",
    " <p style=\"text-align: center;\"> Your output should look something like this (above)</p> \n",
    " </figcaption>\n",
    "</figure>\n",
    " <p></p> \n"
   ]
  },
  {
   "cell_type": "code",
   "execution_count": null,
   "metadata": {
    "collapsed": true
   },
   "outputs": [],
   "source": [
    "### Visualize your network's feature maps here.\n",
    "### Feel free to use as many code cells as needed.\n",
    "\n",
    "# image_input: the test image being fed into the network to produce the feature maps\n",
    "# tf_activation: should be a tf variable name used during your training procedure that represents the calculated state of a specific weight layer\n",
    "# activation_min/max: can be used to view the activation contrast in more detail, by default matplot sets min and max to the actual min and max values of the output\n",
    "# plt_num: used to plot out multiple different weight feature map sets on the same block, just extend the plt number for each new feature map entry\n",
    "\n",
    "def outputFeatureMap(file, tf_activation, activation_min=-1, activation_max=-1 ,plt_num=1):\n",
    "    # Here make sure to preprocess your image_input in a way your network expects\n",
    "    # with size, normalization, ect if needed\n",
    "    # image_input =\n",
    "    # Note: x should be the same name as your network's tensorflow data placeholder variable\n",
    "    # If you get an error tf_activation is not defined it may be having trouble accessing the variable from inside a function\n",
    "    images = [load_and_resize_image(file)] \n",
    "    \n",
    "    with tf.Session() as sess:\n",
    "        saver.restore(sess, tf.train.latest_checkpoint('./checkpoints'))\n",
    "        sess.run(iterator.make_initializer(dataset_valid),feed_dict={X: images, Y: [0]})\n",
    "        \n",
    "        activation = tf_activation.eval(session=sess,feed_dict={keep_prob: 1.0})\n",
    "        featuremaps = activation.shape[3]\n",
    "        plt.figure(plt_num, figsize=(15,15))\n",
    "        for featuremap in range(featuremaps):\n",
    "            plt.subplot(6,8, featuremap+1) # sets the number of feature maps to show on each row and column\n",
    "            plt.title('FeatureMap ' + str(featuremap)) # displays the feature map number\n",
    "            if activation_min != -1 & activation_max != -1:\n",
    "                plt.imshow(activation[0,:,:, featuremap], interpolation=\"nearest\", vmin =activation_min, vmax=activation_max, cmap=\"gray\")\n",
    "            elif activation_max != -1:\n",
    "                plt.imshow(activation[0,:,:, featuremap], interpolation=\"nearest\", vmax=activation_max, cmap=\"gray\")\n",
    "            elif activation_min !=-1:\n",
    "                plt.imshow(activation[0,:,:, featuremap], interpolation=\"nearest\", vmin=activation_min, cmap=\"gray\")\n",
    "            else:\n",
    "                plt.imshow(activation[0,:,:, featuremap], interpolation=\"nearest\", cmap=\"gray\")"
   ]
  },
  {
   "cell_type": "code",
   "execution_count": null,
   "metadata": {
    "collapsed": true,
    "scrolled": true
   },
   "outputs": [],
   "source": [
    "outputFeatureMap(\"./internet_images/0.jpg\",activations[0])"
   ]
  },
  {
   "cell_type": "code",
   "execution_count": null,
   "metadata": {
    "collapsed": true
   },
   "outputs": [],
   "source": [
    "outputFeatureMap(\"./internet_images/0.jpg\",activations[1])"
   ]
  }
 ],
 "metadata": {
  "anaconda-cloud": {},
  "kernelspec": {
   "display_name": "Python 3",
   "language": "python",
   "name": "python3"
  },
  "language_info": {
   "codemirror_mode": {
    "name": "ipython",
    "version": 3
   },
   "file_extension": ".py",
   "mimetype": "text/x-python",
   "name": "python",
   "nbconvert_exporter": "python",
   "pygments_lexer": "ipython3",
   "version": "3.5.2"
  }
 },
 "nbformat": 4,
 "nbformat_minor": 1
}
